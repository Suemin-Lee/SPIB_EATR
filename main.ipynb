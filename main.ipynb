{
 "cells": [
  {
   "cell_type": "code",
   "execution_count": 23,
   "id": "3f6d1028",
   "metadata": {},
   "outputs": [],
   "source": [
    "import os,sys\n",
    "import json\n",
    "sys.path.append(os.path.abspath('..'))\n",
    "import numpy as np\n",
    "import random\n",
    "import glob\n",
    "import rate_methods as RM\n",
    "from scipy import interpolate, optimize\n",
    "from scipy.stats import ks_1samp, ks_2samp\n",
    "from scipy.stats import gamma as gamma_func\n",
    "import multiprocessing as mp\n",
    "from functools import partial\n",
    "import matplotlib.pyplot as plt\n"
   ]
  },
  {
   "cell_type": "markdown",
   "id": "c4d35923",
   "metadata": {},
   "source": [
    "# EATR γ fitting"
   ]
  },
  {
   "cell_type": "code",
   "execution_count": 28,
   "id": "8fc49f6f",
   "metadata": {},
   "outputs": [
    {
     "name": "stdout",
     "output_type": "stream",
     "text": [
      "FKBP_DMSO/SPIB0: mean γ = 0.500, std = 0.000\n",
      "FKBP_DMSO/SPIB1: mean γ = 0.500, std = 0.000\n",
      "FKBP_DMSO/SPIB2: mean γ = 0.500, std = 0.000\n",
      "FKBP_DMSO/SPIB3: mean γ = 0.500, std = 0.000\n",
      "FKBP_DMSO/SPIB4: mean γ = 1.000, std = 0.000\n"
     ]
    }
   ],
   "source": [
    "settings = {\n",
    "    \"FKBP_DMSO/SPIB0\": 4,\n",
    "    \"FKBP_DMSO/SPIB1\": 8,\n",
    "    \"FKBP_DMSO/SPIB2\": 8,\n",
    "    \"FKBP_DMSO/SPIB3\": 8,\n",
    "    \"FKBP_DMSO/SPIB4\": 8,\n",
    "}\n",
    "\n",
    "# gammas     = np.arange(0.0, 1.01, 0.05)\n",
    "# log_rates  = np.arange(-3.5, 8.1, 0.1)\n",
    "gammas     = np.arange(0.0, 1.01, 0.5)\n",
    "log_rates  = np.arange(-3.5, 8.1, 3)\n",
    "colvar_name = \"COLVAR_modified\"\n",
    "log_name    = colvar_name\n",
    "plog_len    = 1\n",
    "beta        = 0.3967641346\n",
    "cores       = 4\n",
    "random.seed(12345)\n",
    "\n",
    "\n",
    "EATR_gamma_results = []\n",
    "\n",
    "for directory, runs_count in settings.items():\n",
    "    runs   = [f\"run{i+1}\" for i in range(runs_count)]\n",
    "    colvars = [os.path.join(directory, r, colvar_name) for r in runs]\n",
    "    plogs   = [os.path.join(directory, r, log_name)    for r in runs]\n",
    "\n",
    "    # initialize\n",
    "    colvars_count         = len(colvars)\n",
    "    colvars_maxrow_count  = None\n",
    "    data                  = []\n",
    "    final_times           = np.zeros((colvars_count, 2))\n",
    "\n",
    "    # load COLVARs\n",
    "    for i, cv in enumerate(colvars):\n",
    "        arr = np.loadtxt(cv)\n",
    "        data.append(arr)\n",
    "        # track max rows\n",
    "        rows = arr.shape[0]\n",
    "        if colvars_maxrow_count is None or rows > colvars_maxrow_count:\n",
    "            colvars_maxrow_count = rows\n",
    "        # record transition time\n",
    "        final_times[i, 0] = arr[-1, 0]\n",
    "\n",
    "    # compute acc and scaled times\n",
    "    acc = RM.calc_acc(data, 0, 1, beta)\n",
    "    final_times[:, 1] = final_times[:, 0] * acc\n",
    "\n",
    "    # count events in plog files\n",
    "    event = []\n",
    "    for pl in plogs:\n",
    "        with open(pl) as f:\n",
    "            event.append(len(f.readlines()) > plog_len)\n",
    "    event = np.array(event)\n",
    "    M, N = event.sum(), len(event)\n",
    "    t     = final_times[:, 0]\n",
    "\n",
    "    # bootstrap opt gamma\n",
    "    opt_gammas = []\n",
    "    for _ in range(2):\n",
    "        resample = random.choices(data, k=len(data))\n",
    "        rows_list = [r.shape[0] for r in resample]\n",
    "        max_rows  = max(rows_list)\n",
    "\n",
    "        SSEs = []\n",
    "        for gamma in gammas:\n",
    "            v_data, ix_col = RM.inst_bias(resample,\n",
    "                                          colvars_count,\n",
    "                                          max_rows,\n",
    "                                          beta, 1)\n",
    "            spline = RM.EATR_calculate_avg_acc(gamma, v_data, beta, ix_col)\n",
    "            ecdfx  = np.sort(t[event])\n",
    "            ecdfy  = np.arange(1, M+1) / len(event)\n",
    "            SSEs.append(\n",
    "                RM.EATR_leastsq_cost(\n",
    "                    10 ** (np.log10(1/13e-9) - 12),\n",
    "                    gamma, ecdfx, ecdfy, spline\n",
    "                )\n",
    "            )\n",
    "        opt_gammas.append(gammas[np.argmin(SSEs)])\n",
    "\n",
    "    mean_gamma = np.mean(opt_gammas)\n",
    "    std_gamma  = np.std(opt_gammas)\n",
    "    print(f\"{directory}: mean γ = {mean_gamma:.3f}, std = {std_gamma:.3f}\")\n",
    "\n",
    "    EATR_gamma_results.append( [mean_gamma, std_gamma])\n",
    "\n",
    "# # ─── SAVE TO FILE ────────────────────────────────────────────────────────────\n",
    "np.save('EATR_gamma_results.npy',EATR_gamma_results)"
   ]
  },
  {
   "cell_type": "markdown",
   "id": "03f7fcce",
   "metadata": {},
   "source": [
    "# Average accelerated time"
   ]
  },
  {
   "cell_type": "code",
   "execution_count": 13,
   "id": "a30183af",
   "metadata": {},
   "outputs": [],
   "source": [
    "avg_accelerated_T= []\n",
    "acc_factors= []\n",
    "for directory, runs_count in settings.items():\n",
    "    runs   = [f\"run{i+1}\" for i in range(runs_count)]\n",
    "    colvars = [os.path.join(directory, r, colvar_name) for r in runs]\n",
    "    \n",
    "    data_list=[]\n",
    "    # load COLVARs\n",
    "    for i, cv in enumerate(colvars):\n",
    "        locals()['metaD{0}'.format(i)] = np.loadtxt(cv)\n",
    "        data_list.append(locals()['metaD{0}'.format(i)])\n",
    "    residence_t_data=[]\n",
    "    accelerated_factor=[]\n",
    "    # Loop over the data points in 'data_list'\n",
    "    for i in range(len(data_list)):\n",
    "        simulation_data = data_list[i]\n",
    "        # Extract the time and bias columns from the simulation data\n",
    "        time = simulation_data[:,0]\n",
    "        bias = simulation_data[:,-1]\n",
    "        # Calculate the time step (dt)\n",
    "        dt = (time[-1]-time[-2])*1e-12\n",
    "        k_B = 8.314462\n",
    "        T = 300\n",
    "        kbT = k_B*T/1000\n",
    "\n",
    "        # Calculate the acceleration factor\n",
    "        acceleration = np.exp(bias/kbT)\n",
    "        residence_t = acceleration*dt\n",
    "        residence_t = np.sum(residence_t)\n",
    "        # Add the calculated residence time to the list of residence time data\n",
    "        residence_t_data.append(residence_t)\n",
    "        accelerated_factor.append(residence_t/time[-1])\n",
    "#     np.save('accelerated_data_iter_%i.npy'%i,accelerated_factor)\n",
    "    acc_factors.append([accelerated_factor])\n",
    "   \n",
    "    avg_accelerated_T.append(np.mean(residence_t_data))\n",
    "\n",
    "np.save('avg_accelerated_T.npy',avg_accelerated_T)    "
   ]
  },
  {
   "cell_type": "markdown",
   "id": "3e23a60a",
   "metadata": {},
   "source": [
    "# gamma fittings on predicted equations"
   ]
  },
  {
   "cell_type": "code",
   "execution_count": 80,
   "id": "b884af6f",
   "metadata": {},
   "outputs": [
    {
     "name": "stdout",
     "output_type": "stream",
     "text": [
      "γ prediction 1:  [-0.11813461 -0.13402314 -0.14218625 -0.13433946 -0.12988218]\r\n",
      "γ prediction 2:  [-0.15253448 -0.15185679 -0.14712683 -0.13707525 -0.12209184]\r\n"
     ]
    }
   ],
   "source": [
    "!python gamma_predictions.py pred_params.json"
   ]
  },
  {
   "cell_type": "code",
   "execution_count": 81,
   "id": "d07d5011",
   "metadata": {},
   "outputs": [],
   "source": [
    "gamma_predict = np.loadtxt('gamma_prediction.txt')"
   ]
  },
  {
   "cell_type": "code",
   "execution_count": 82,
   "id": "2c0f7f40",
   "metadata": {},
   "outputs": [
    {
     "data": {
      "image/png": "[encoded data removed]",
      "text/plain": [
       "<Figure size 1000x450 with 2 Axes>"
      ]
     },
     "metadata": {},
     "output_type": "display_data"
    }
   ],
   "source": [
    "plt.figure(figsize = (10,4.5))\n",
    "plt.subplot(1,2,1)\n",
    "iters = np.arange(len(EATR_gamma_results))\n",
    "gamma_vals = [row[0] for row in EATR_gamma_results]\n",
    "gamma_vals_sig = [row[1] for row in EATR_gamma_results]\n",
    "\n",
    "plt.plot(iters, gamma_vals, color='blue', linewidth=1, zorder=1)\n",
    "plt.scatter(iters, gamma_vals, color='blue', s=50,\n",
    "           edgecolor='black', linewidth=1, zorder=2)\n",
    "plt.errorbar(iters, gamma_vals, yerr=gamma_vals_sig,\n",
    "            fmt='none', ecolor='blue', elinewidth=1.5,\n",
    "            capsize=5, capthick=1.5, zorder=3)\n",
    "\n",
    "\n",
    "plt.ylabel(r'$\\gamma$', fontsize=18)\n",
    "plt.xlabel('SPIB iterations', fontsize=18)\n",
    "\n",
    "plt.ylim(0, 1)\n",
    "plt.yticks([0, 0.25, 0.5, 0.75, 1])\n",
    "if i in [1, 2, 4, 5]:\n",
    "    ax.set_yticklabels([])\n",
    "    ax.set_ylabel('')\n",
    "\n",
    "plt.tick_params(axis='y', labelsize=14)\n",
    "plt.tick_params(axis='x', labelsize=14)\n",
    "plt.text(0.05, 0.08, 'FKBP – DMSO', fontsize=15,\n",
    "            bbox=dict(boxstyle='round', facecolor='white', alpha=0.5))\n",
    "\n",
    "\n",
    "plt.subplot(1,2,2)\n",
    "τ    = avg_accelerated_T\n",
    "sys  = gamma_vals\n",
    "pred = gamma_predict\n",
    "\n",
    "n_iter = len(τ)\n",
    "cmap   = plt.cm.get_cmap('Blues', n_iter)\n",
    "norm   = plt.Normalize(0, n_iter - 1)\n",
    "\n",
    "series_info = [\n",
    "    ('γ Fit',       'o', lambda s, p: s[:]),\n",
    "    ('Prediction 1','s', lambda s, p: p[:, 1]),\n",
    "    ('Prediction 2','^', lambda s, p: p[:, 2]),\n",
    "]\n",
    "\n",
    "\n",
    "iters = np.arange(n_iter)\n",
    "for label, marker, getter in series_info:\n",
    "    data = getter(sys, pred)\n",
    "    plt.scatter(τ, data,\n",
    "               c=iters, cmap=cmap, norm=norm,\n",
    "               s=70, marker=marker, edgecolors='black', linewidths=1,\n",
    "               label=label)\n",
    "\n",
    "plt.xscale('log')\n",
    "# plt.ylim(0, 1)\n",
    "plt.xlabel(r'$\\overline{\\tau}_{\\mathrm{accel}}$ [s]', fontsize=18)\n",
    "plt.ylabel(r'$\\gamma$', fontsize=18)\n",
    "plt.yticks([0, 0.25, 0.5, 0.75, 1])\n",
    "plt.tick_params(labelsize=15)\n",
    "plt.legend(frameon=True, fontsize=15)\n",
    "sm = plt.cm.ScalarMappable(cmap=cmap, norm=norm)\n",
    "sm.set_array([])\n",
    "cbar = fig.colorbar(sm, pad=0.02, label='SPIB iteration')\n",
    "cbar.ax.tick_params(labelsize=9)\n"
   ]
  },
  {
   "cell_type": "code",
   "execution_count": null,
   "id": "79848feb",
   "metadata": {},
   "outputs": [],
   "source": []
  }
 ],
 "metadata": {
  "kernelspec": {
   "display_name": "Python 3 (ipykernel)",
   "language": "python",
   "name": "python3"
  },
  "language_info": {
   "codemirror_mode": {
    "name": "ipython",
    "version": 3
   },
   "file_extension": ".py",
   "mimetype": "text/x-python",
   "name": "python",
   "nbconvert_exporter": "python",
   "pygments_lexer": "ipython3",
   "version": "3.10.8"
  }
 },
 "nbformat": 4,
 "nbformat_minor": 5
}
